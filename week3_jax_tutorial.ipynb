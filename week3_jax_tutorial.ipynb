{
  "nbformat": 4,
  "nbformat_minor": 0,
  "metadata": {
    "colab": {
      "name": "week3-jax-tutorial.ipynb",
      "provenance": [],
      "authorship_tag": "ABX9TyOceEmhoXVXkC3n5dMqMUA7",
      "include_colab_link": true
    },
    "kernelspec": {
      "name": "python3",
      "display_name": "Python 3"
    },
    "language_info": {
      "name": "python"
    }
  },
  "cells": [
    {
      "cell_type": "markdown",
      "metadata": {
        "id": "view-in-github",
        "colab_type": "text"
      },
      "source": [
        "<a href=\"https://colab.research.google.com/github/cdl-hanyang/cdl2022-s-ml/blob/main/week3_jax_tutorial.ipynb\" target=\"_parent\"><img src=\"https://colab.research.google.com/assets/colab-badge.svg\" alt=\"Open In Colab\"/></a>"
      ]
    },
    {
      "cell_type": "markdown",
      "source": [
        "#**What is JAX?**\n",
        "\n",
        "**J**IT, **A**utograd, and **X**LA\n",
        "\n",
        "###**JIT**\n",
        "Just-In-Time compilation for python\n",
        "###**Autograd**\n",
        "Automatically differentiate native Python and Numpy code\n",
        "###**XLA**\n",
        "Accelerated Linear Algebra\n"
      ],
      "metadata": {
        "id": "ilWWlBfNfBDd"
      }
    },
    {
      "cell_type": "code",
      "execution_count": 2,
      "metadata": {
        "id": "KtGGQedbe8qR"
      },
      "outputs": [],
      "source": [
        "import jax.numpy as jnp\n",
        "from jax import grad, jit, vmap\n",
        "from jax import random"
      ]
    },
    {
      "cell_type": "markdown",
      "source": [
        "#**Linear Basis Function Models for regression**\n",
        "\n",
        "### Target function\n",
        "$$\n",
        "y = \\sin(2\\pi x), x\\in [0, 1]\n",
        "$$\n",
        "\n",
        "### Hypothesis\n",
        "$$\n",
        "f(x;\\mathbf w) = w_0 + \\sum_{j=1}^M w_j\\phi_j(x)\n",
        "$$\n",
        "\n",
        "### Basis functions\n",
        "- Polynomial $$\\phi_j(x) = x^j$$\n",
        "- Gaussian $$\\phi_j(x) = \\exp\\left(-\\frac{(x - c_j)^2}{2s^2}\\right)$$\n",
        "- Fourier (sine) $$\\phi_j(x) = \\sin(c_j x)$$\n",
        "- ReLU $$\\phi_j(x) = \\max\\{0, x - c_j\\}$$\n",
        "\n",
        "### Using:\n",
        "- automatic vectorization\n",
        "- stochastic gradient descent (SGD)\n",
        "- automatic differentiation\n",
        "\n"
      ],
      "metadata": {
        "id": "qSgpt5ipiRlz"
      }
    },
    {
      "cell_type": "code",
      "source": [
        ""
      ],
      "metadata": {
        "id": "PWdHp0VshWaC"
      },
      "execution_count": null,
      "outputs": []
    }
  ]
}